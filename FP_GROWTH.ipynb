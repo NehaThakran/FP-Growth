{
  "nbformat": 4,
  "nbformat_minor": 0,
  "metadata": {
    "colab": {
      "name": "NEHA_FP_GROWTH.ipynb",
      "provenance": [],
      "collapsed_sections": []
    },
    "kernelspec": {
      "name": "python3",
      "display_name": "Python 3"
    }
  },
  "cells": [
    {
      "cell_type": "code",
      "metadata": {
        "id": "Gb8uDWZ4lrsU"
      },
      "source": [
        "from collections import defaultdict, OrderedDict\n",
        "from csv import reader\n",
        "from itertools import chain, combinations"
      ],
      "execution_count": null,
      "outputs": []
    },
    {
      "cell_type": "code",
      "metadata": {
        "id": "-RgtkJUzjtzN"
      },
      "source": [
        "class Node:\n",
        "    def __init__(self, itemName, frequency, parentNode):\n",
        "        self.itemName = itemName\n",
        "        self.count = frequency\n",
        "        self.parent = parentNode\n",
        "        self.children = {}\n",
        "        self.next = None\n",
        "\n",
        "    def increment(self, frequency):\n",
        "        self.count += frequency\n",
        "\n",
        "    def display(self, ind=1):\n",
        "        print('  ' * ind, self.itemName, ' ', self.count)\n",
        "        for child in list(self.children.values()):\n",
        "            child.display(ind+1)"
      ],
      "execution_count": null,
      "outputs": []
    },
    {
      "cell_type": "code",
      "metadata": {
        "id": "gM9etKahd5e5"
      },
      "source": [
        "def fpgrowthFromFile(fname, minSupRatio, minConf):\n",
        "    itemSetList, frequency = getFromFile(fname)\n",
        "    minSup = len(itemSetList) * minSupRatio\n",
        "    fpTree, headerTable = constructTree(itemSetList, frequency, minSup)\n",
        "    print(\"Tree:\")\n",
        "    \n",
        "    fpTree.display(ind=1)\n",
        "\n",
        "    freqItems = []\n",
        "    mineTree(headerTable, minSup, set(), freqItems)\n",
        "    rules = associationRule(freqItems, itemSetList, minConf)\n",
        "    return freqItems, rules\n",
        "    "
      ],
      "execution_count": null,
      "outputs": []
    },
    {
      "cell_type": "code",
      "metadata": {
        "id": "QctofTMlendd"
      },
      "source": [
        "def constructTree(itemSetList, frequency, minSup):\n",
        "    headerTable = defaultdict(int)\n",
        "    # Counting frequency and create header table\n",
        "    for idx, itemSet in enumerate(itemSetList):\n",
        "        for item in itemSet:\n",
        "            headerTable[item] += frequency[idx]\n",
        "\n",
        "    # Deleting items below minSup\n",
        "    headerTable = dict((item, sup) for item, sup in headerTable.items() if sup >= minSup)\n",
        "    if(len(headerTable) == 0):\n",
        "        return None, None\n",
        "\n",
        "    # HeaderTable column [Item: [frequency, headNode]]\n",
        "    for item in headerTable:\n",
        "        headerTable[item] = [headerTable[item], None]\n",
        "\n",
        "    # Init Null head node\n",
        "    fpTree = Node('Null', 1, None)\n",
        "    # Update FP tree for each cleaned and sorted itemSet\n",
        "    for idx, itemSet in enumerate(itemSetList):\n",
        "        itemSet = [item for item in itemSet if item in headerTable]\n",
        "        itemSet.sort(key=lambda item: headerTable[item][0], reverse=True)\n",
        "        # Traverse from root to leaf, update tree with given item\n",
        "        currentNode = fpTree\n",
        "        for item in itemSet:\n",
        "            currentNode = updateTree(item, currentNode, headerTable, frequency[idx])\n",
        "        \n",
        "    return fpTree, headerTable\n",
        "\n",
        "\n",
        "def updateTree(item, treeNode, headerTable, frequency):\n",
        "    if item in treeNode.children:\n",
        "        # If the item already exists, increment the count\n",
        "        treeNode.children[item].increment(frequency)\n",
        "    else:\n",
        "        # Create a new branch\n",
        "        newItemNode = Node(item, frequency, treeNode)\n",
        "        treeNode.children[item] = newItemNode\n",
        "        # Link the new branch to header table\n",
        "        updateHeaderTable(item, newItemNode, headerTable)         \n",
        "\n",
        "    return treeNode.children[item]\n",
        "\n",
        "def updateHeaderTable(item, targetNode, headerTable):\n",
        "    if(headerTable[item][1] == None):\n",
        "        headerTable[item][1] = targetNode\n",
        "    else:\n",
        "        currentNode = headerTable[item][1]\n",
        "        # Traverse to the last node then link it to the target\n",
        "        while currentNode.next != None:\n",
        "            currentNode = currentNode.next\n",
        "        currentNode.next = targetNode"
      ],
      "execution_count": null,
      "outputs": []
    },
    {
      "cell_type": "code",
      "metadata": {
        "id": "KwQTHPibexs0"
      },
      "source": [
        "def mineTree(headerTable, minSup, preFix, freqItemList):\n",
        "    # Sort the items with frequency and create a list\n",
        "    sortedItemList = [item[0] for item in sorted(list(headerTable.items()), key=lambda p:p[1][0])] \n",
        "    # Start with the lowest frequency\n",
        "    for item in sortedItemList:  \n",
        "        # Pattern growth is achieved by the concatenation of suffix pattern with frequent patterns generated from conditional FP-tree\n",
        "        newFreqSet = preFix.copy()\n",
        "        newFreqSet.add(item)\n",
        "        freqItemList.append(newFreqSet)\n",
        "        # Find all prefix path, construct conditional pattern base\n",
        "        conditionalPattBase, frequency = findPrefixPath(item, headerTable) \n",
        "        # Construct conditonal FP Tree with conditional pattern base\n",
        "        conditionalTree, newHeaderTable = constructTree(conditionalPattBase, frequency, minSup) \n",
        "        if newHeaderTable != None:\n",
        "            # Mining recursively on the tree\n",
        "            mineTree(newHeaderTable, minSup,\n",
        "                       newFreqSet, freqItemList)\n",
        "\n",
        "def findPrefixPath(basePat, headerTable):\n",
        "    # First node in linked list\n",
        "    treeNode = headerTable[basePat][1] \n",
        "    condPats = []\n",
        "    frequency = []\n",
        "    while treeNode != None:\n",
        "        prefixPath = []\n",
        "        # From leaf node all the way to root\n",
        "        ascendFPtree(treeNode, prefixPath)  \n",
        "        if len(prefixPath) > 1:\n",
        "            # Storing the prefix path and it's corresponding count\n",
        "            condPats.append(prefixPath[1:])\n",
        "            frequency.append(treeNode.count)\n",
        "\n",
        "        # Go to next node\n",
        "        treeNode = treeNode.next  \n",
        "    return condPats, frequency\n",
        "\n",
        "def ascendFPtree(node, prefixPath):\n",
        "    if node.parent != None:\n",
        "        prefixPath.append(node.itemName)\n",
        "        ascendFPtree(node.parent, prefixPath)"
      ],
      "execution_count": null,
      "outputs": []
    },
    {
      "cell_type": "code",
      "metadata": {
        "id": "DwHsWFyhi8US"
      },
      "source": [
        "def getSupport(testSet, itemSetList):\n",
        "    count = 0\n",
        "    for itemSet in itemSetList:\n",
        "        if(set(testSet).issubset(itemSet)):\n",
        "            count += 1\n",
        "    return count"
      ],
      "execution_count": null,
      "outputs": []
    },
    {
      "cell_type": "code",
      "metadata": {
        "id": "qG7eYRqXjDOx"
      },
      "source": [
        "def associationRule(freqItemSet, itemSetList, minConf):\n",
        "    rules = []\n",
        "    for itemSet in freqItemSet:\n",
        "        subsets = powerset(itemSet)\n",
        "        itemSetSup = getSupport(itemSet, itemSetList)\n",
        "        for s in subsets:\n",
        "            confidence = float(itemSetSup / getSupport(s, itemSetList))\n",
        "            if(confidence > minConf):\n",
        "                rules.append([set(s), set(itemSet.difference(s)), confidence])\n",
        "    return rules"
      ],
      "execution_count": null,
      "outputs": []
    },
    {
      "cell_type": "code",
      "metadata": {
        "id": "RSipsOAoKDuu"
      },
      "source": [
        "def getFrequencyFromList(itemSetList):\n",
        "    frequency = [1 for i in range(len(itemSetList))]\n",
        "    return frequency"
      ],
      "execution_count": null,
      "outputs": []
    },
    {
      "cell_type": "code",
      "metadata": {
        "id": "5OmdZX6PoKOy"
      },
      "source": [
        "def getFromFile(fname):\n",
        "    itemSetList = []\n",
        "    frequency = []\n",
        "    \n",
        "    with open(fname, 'r') as file:\n",
        "        csv_reader = reader(file)\n",
        "        for line in csv_reader:\n",
        "            line = list(filter(None, line))\n",
        "            itemSetList.append(line)\n",
        "            frequency.append(1)\n",
        "\n",
        "    return itemSetList, frequency"
      ],
      "execution_count": null,
      "outputs": []
    },
    {
      "cell_type": "code",
      "metadata": {
        "id": "eLtRXijUNB0n"
      },
      "source": [
        "def powerset(s):\n",
        "    return chain.from_iterable(combinations(s, r) for r in range(1, len(s)))"
      ],
      "execution_count": null,
      "outputs": []
    },
    {
      "cell_type": "code",
      "metadata": {
        "colab": {
          "base_uri": "https://localhost:8080/"
        },
        "id": "14YwldW6IJk7",
        "outputId": "0cff128f-a081-4b05-9568-df1de0a9f20f"
      },
      "source": [
        "itemSetList, frequency=getFromFile('/content/drive/MyDrive/dataset.csv')\n",
        "print(itemSetList)"
      ],
      "execution_count": null,
      "outputs": [
        {
          "output_type": "stream",
          "text": [
            "[['a', 'c', 'd', 'f', 'g', 'i', 'm', 'p'], ['a', 'b', 'c', 'f', 'i', 'm', 'o'], ['b', 'f', 'h', 'j', 'o'], ['b', 'c', 'k', 's', 'p'], ['a', 'c', 'e', 'f', 'l', 'm', 'n', 'p']]\n"
          ],
          "name": "stdout"
        }
      ]
    },
    {
      "cell_type": "code",
      "metadata": {
        "colab": {
          "base_uri": "https://localhost:8080/"
        },
        "id": "Y3P7Wr0DjILR",
        "outputId": "7fe60846-22aa-4aee-9f51-919a5a5e2273"
      },
      "source": [
        "if __name__ == \"__main__\":\n",
        "   freqItemSet, rules = fpgrowthFromFile('/content/drive/MyDrive/dataset.csv', 0.5, 0.75)\n",
        "   print(\"Frequent itemsets are:\\n\")\n",
        "   print(freqItemSet)\n",
        "   print(\"\\nRules generated are:\\n\")\n",
        "   print(rules)"
      ],
      "execution_count": null,
      "outputs": [
        {
          "output_type": "stream",
          "text": [
            "Tree:\n",
            "   Null   1\n",
            "     c   4\n",
            "       f   3\n",
            "         a   3\n",
            "           m   2\n",
            "             p   2\n",
            "           b   1\n",
            "             m   1\n",
            "       b   1\n",
            "         p   1\n",
            "     f   1\n",
            "       b   1\n",
            "Frequent itemsets are:\n",
            "\n",
            "[{'a'}, {'a', 'f'}, {'c', 'a'}, {'c', 'a', 'f'}, {'m'}, {'m', 'a'}, {'m', 'f'}, {'m', 'a', 'f'}, {'c', 'm'}, {'c', 'm', 'f'}, {'c', 'm', 'a'}, {'c', 'm', 'a', 'f'}, {'p'}, {'c', 'p'}, {'b'}, {'c'}, {'f'}, {'c', 'f'}]\n",
            "\n",
            "Rules generated are:\n",
            "\n",
            "[[{'a'}, {'f'}, 1.0], [{'a'}, {'c'}, 1.0], [{'a'}, {'c', 'f'}, 1.0], [{'c', 'a'}, {'f'}, 1.0], [{'c', 'f'}, {'a'}, 1.0], [{'a', 'f'}, {'c'}, 1.0], [{'m'}, {'a'}, 1.0], [{'a'}, {'m'}, 1.0], [{'m'}, {'f'}, 1.0], [{'m'}, {'a', 'f'}, 1.0], [{'a'}, {'m', 'f'}, 1.0], [{'m', 'a'}, {'f'}, 1.0], [{'m', 'f'}, {'a'}, 1.0], [{'a', 'f'}, {'m'}, 1.0], [{'m'}, {'c'}, 1.0], [{'m'}, {'c', 'f'}, 1.0], [{'m', 'c'}, {'f'}, 1.0], [{'c', 'f'}, {'m'}, 1.0], [{'m', 'f'}, {'c'}, 1.0], [{'m'}, {'c', 'a'}, 1.0], [{'a'}, {'m', 'c'}, 1.0], [{'m', 'c'}, {'a'}, 1.0], [{'c', 'a'}, {'m'}, 1.0], [{'m', 'a'}, {'c'}, 1.0], [{'m'}, {'c', 'a', 'f'}, 1.0], [{'a'}, {'m', 'c', 'f'}, 1.0], [{'m', 'c'}, {'a', 'f'}, 1.0], [{'c', 'a'}, {'m', 'f'}, 1.0], [{'c', 'f'}, {'m', 'a'}, 1.0], [{'m', 'a'}, {'c', 'f'}, 1.0], [{'m', 'f'}, {'c', 'a'}, 1.0], [{'a', 'f'}, {'m', 'c'}, 1.0], [{'m', 'c', 'a'}, {'f'}, 1.0], [{'m', 'c', 'f'}, {'a'}, 1.0], [{'c', 'a', 'f'}, {'m'}, 1.0], [{'m', 'a', 'f'}, {'c'}, 1.0], [{'p'}, {'c'}, 1.0]]\n"
          ],
          "name": "stdout"
        }
      ]
    }
  ]
}